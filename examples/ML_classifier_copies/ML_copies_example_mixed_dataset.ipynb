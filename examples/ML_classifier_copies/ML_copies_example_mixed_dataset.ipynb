{
 "cells": [
  {
   "cell_type": "markdown",
   "metadata": {},
   "source": [
    "# ML Classifier Copies - Autistic Spectrum Disorder Model Example"
   ]
  },
  {
   "cell_type": "markdown",
   "metadata": {},
   "source": [
    "An example where we take an existing \"black box\" classifier model of the publicly available [Autistic Spectrum Disorder Screening for Adults dataset](https://archive-beta.ics.uci.edu/ml/datasets/Autism+Screening+Adult), that we can query in order to obtain a copy. Copying this model has the added difficulty that it uses a mix of numerical and categorical features.\n",
    "\n",
    "Since we don't know the orginal model family, we will build several copies from different model families and compare the copy fidelity and performance.\n",
    "\n",
    "(NOTE: Since we **did** build this model, we do have in fact all information.)"
   ]
  },
  {
   "cell_type": "markdown",
   "metadata": {},
   "source": [
    "<a name=\"Index\">\n",
    "    \n",
    "----\n",
    "# Table of contents\n",
    "\n",
    "    \n",
    "1. [**Load original model**](#Original)\n",
    "2. [**Build copies**](#Copies)\n",
    "3. [**Evaluate copies**](#Evaluation)\n",
    "----"
   ]
  },
  {
   "cell_type": "code",
   "execution_count": 1,
   "metadata": {},
   "outputs": [],
   "source": [
    "import sys\n",
    "sys.path.append(\"../../\")"
   ]
  },
  {
   "cell_type": "code",
   "execution_count": 2,
   "metadata": {},
   "outputs": [],
   "source": [
    "from sklearn.compose import ColumnTransformer\n",
    "from sklearn.linear_model import LogisticRegression\n",
    "from sklearn.neighbors import KNeighborsClassifier\n",
    "from sklearn.pipeline import Pipeline\n",
    "from sklearn.preprocessing import StandardScaler, OneHotEncoder\n",
    "from sklearn.svm import SVC\n",
    "from sklearn.tree import DecisionTreeClassifier\n",
    "\n",
    "from presc.dataset import Dataset\n",
    "from presc.copies.copying import ClassifierCopy\n",
    "from presc.copies.sampling import (\n",
    "    normal_sampling, mixed_data_sampling,\n",
    ")\n",
    "\n",
    "from ML_copies_original_models import AutismScreeningModel"
   ]
  },
  {
   "cell_type": "markdown",
   "metadata": {},
   "source": [
    "[Index](#Index)  \n",
    "  \n",
    "  \n"
   ]
  },
  {
   "cell_type": "markdown",
   "metadata": {},
   "source": [
    "<a name=\"Original\">  \n",
    "\n",
    "-----\n",
    "-----\n",
    "# Load original model"
   ]
  },
  {
   "cell_type": "markdown",
   "metadata": {},
   "source": [
    "We load a \"black box\" classifier model that we can query for the labels of any points."
   ]
  },
  {
   "cell_type": "code",
   "execution_count": 3,
   "metadata": {},
   "outputs": [],
   "source": [
    "autism_model = AutismScreeningModel()"
   ]
  },
  {
   "cell_type": "markdown",
   "metadata": {},
   "source": [
    "[Index](#Index)  \n",
    "  \n",
    "  \n"
   ]
  },
  {
   "cell_type": "markdown",
   "metadata": {},
   "source": [
    "<a name=\"Copies\">  \n",
    "\n",
    "-----\n",
    "# Build copies"
   ]
  },
  {
   "cell_type": "code",
   "execution_count": 4,
   "metadata": {},
   "outputs": [],
   "source": [
    "# Build separated transformer pipelines for the numerical and categorical features of the copy\n",
    "numerical_features = ['age']\n",
    "categorical_features = autism_model.dataset.column_names\n",
    "categorical_features.remove(\"age\")\n",
    "\n",
    "numerical_transformer = Pipeline([('scaler', StandardScaler())])\n",
    "categorical_transformer = Pipeline([('onehot', OneHotEncoder(handle_unknown='ignore'))])\n",
    "\n",
    "preprocessor = ColumnTransformer(transformers=[('num', numerical_transformer, numerical_features),\n",
    "                                               ('cat', categorical_transformer, categorical_features)])"
   ]
  },
  {
   "cell_type": "code",
   "execution_count": 5,
   "metadata": {},
   "outputs": [],
   "source": [
    "log_normal_classifier = Pipeline([('preprocessor', preprocessor), \n",
    "                                  ('log_classifier', LogisticRegression(max_iter=1000))])\n",
    "knn_normal_classifier = Pipeline([('preprocessor', preprocessor),\n",
    "                                  ('KKN_classifier', KNeighborsClassifier(n_neighbors=30, weights=\"distance\"))])\n",
    "tree_normal_classifier = Pipeline([('preprocessor', preprocessor),\n",
    "                                  ('tree_classifier', DecisionTreeClassifier())])\n",
    "svm_normal_classifier = Pipeline([('preprocessor', preprocessor),\n",
    "                                  ('tree_classifier', SVC(kernel=\"linear\"))])"
   ]
  },
  {
   "cell_type": "code",
   "execution_count": 6,
   "metadata": {},
   "outputs": [],
   "source": [
    "feature_description = autism_model.feature_description"
   ]
  },
  {
   "cell_type": "code",
   "execution_count": 7,
   "metadata": {},
   "outputs": [],
   "source": [
    "balance_parameters={\"max_iter\": 50, \"nbatch\": 10000, \"verbose\": False}\n",
    "log_normal_copy = ClassifierCopy(autism_model.model, log_normal_classifier,\n",
    "                                 sampling_function=mixed_data_sampling, numerical_sampling=normal_sampling,\n",
    "                                 enforce_balance=False, nsamples=20000, random_state=42,\n",
    "                                 feature_parameters=feature_description, label_col=\"ASD\",\n",
    "                                 **balance_parameters)\n",
    "log_normal_copy_training_data = log_normal_copy.copy_classifier(get_training_data=True)\n",
    "\n",
    "knn_normal_copy = ClassifierCopy(autism_model.model, knn_normal_classifier, \n",
    "                                 sampling_function=mixed_data_sampling, numerical_sampling=normal_sampling,\n",
    "                                 enforce_balance=False, nsamples=20000, random_state=42,\n",
    "                                 feature_parameters=feature_description, label_col=\"ASD\",\n",
    "                                 **balance_parameters) \n",
    "knn_normal_copy_training_data = knn_normal_copy.copy_classifier(get_training_data=True)\n",
    "\n",
    "tree_normal_copy = ClassifierCopy(autism_model.model, tree_normal_classifier,\n",
    "                                  sampling_function=mixed_data_sampling, numerical_sampling=normal_sampling,\n",
    "                                  enforce_balance=False, nsamples=20000, random_state=42,\n",
    "                                  feature_parameters=feature_description, label_col=\"ASD\",\n",
    "                                  **balance_parameters) \n",
    "tree_normal_copy_training_data = tree_normal_copy.copy_classifier(get_training_data=True)\n",
    "\n",
    "svm_normal_copy = ClassifierCopy(autism_model.model, svm_normal_classifier,\n",
    "                                 sampling_function=mixed_data_sampling, numerical_sampling=normal_sampling,\n",
    "                                 enforce_balance=False, nsamples=20000, random_state=42,\n",
    "                                 feature_parameters=feature_description, label_col=\"ASD\",\n",
    "                                 **balance_parameters) \n",
    "svm_normal_copy_training_data = svm_normal_copy.copy_classifier(get_training_data=True)"
   ]
  },
  {
   "cell_type": "markdown",
   "metadata": {},
   "source": [
    "[Index](#Index)  \n",
    "  \n",
    "  \n"
   ]
  },
  {
   "cell_type": "markdown",
   "metadata": {},
   "source": [
    "<a name=\"Evaluation\">  \n",
    "\n",
    "-----\n",
    "# Evaluate copies\n",
    "    \n",
    "### Evaluation summary"
   ]
  },
  {
   "cell_type": "code",
   "execution_count": 8,
   "metadata": {},
   "outputs": [
    {
     "name": "stdout",
     "output_type": "stream",
     "text": [
      "\n",
      " * Logistic regression copy:\n",
      "Original Model Accuracy (test)          0.9787\n",
      "Copy Model Accuracy (test)              0.9929\n",
      "Empirical Fidelity Error (synthetic)    0.0335\n",
      "Empirical Fidelity Error (test)         0.0142\n",
      "Replacement Capability (synthetic)      0.9665\n",
      "Replacement Capability (test)           1.0145\n",
      "\n",
      " * KNN copy:\n",
      "Original Model Accuracy (test)          0.9787\n",
      "Copy Model Accuracy (test)              0.9645\n",
      "Empirical Fidelity Error (synthetic)    0.0240\n",
      "Empirical Fidelity Error (test)         0.0142\n",
      "Replacement Capability (synthetic)      0.9760\n",
      "Replacement Capability (test)           0.9855\n",
      "\n",
      " * Decision tree copy:\n",
      "Original Model Accuracy (test)          0.9787\n",
      "Copy Model Accuracy (test)              0.9787\n",
      "Empirical Fidelity Error (synthetic)    0.0065\n",
      "Empirical Fidelity Error (test)         0.0000\n",
      "Replacement Capability (synthetic)      0.9935\n",
      "Replacement Capability (test)           1.0000\n",
      "\n",
      " * SVC copy:\n",
      "Original Model Accuracy (test)          0.9787\n",
      "Copy Model Accuracy (test)              1.0000\n",
      "Empirical Fidelity Error (synthetic)    0.0400\n",
      "Empirical Fidelity Error (test)         0.0213\n",
      "Replacement Capability (synthetic)      0.9600\n",
      "Replacement Capability (test)           1.0217\n"
     ]
    }
   ],
   "source": [
    "print(\"\\n * Logistic regression copy:\")\n",
    "synthetic_log_normal_test_data = log_normal_copy.generate_synthetic_data(nsamples=2000, random_state=43)\n",
    "evaluation_log_normal_copy = log_normal_copy.evaluation_summary(test_data=Dataset(\n",
    "                                                autism_model.X_test.join(autism_model.y_test), label_col=\"ASD\"), \n",
    "                                                synthetic_data=synthetic_log_normal_test_data)\n",
    "\n",
    "print(\"\\n * KNN copy:\")\n",
    "synthetic_knn_normal_test_data = knn_normal_copy.generate_synthetic_data(nsamples=2000, random_state=43)\n",
    "evaluation_knn_normal_copy = knn_normal_copy.evaluation_summary(test_data=Dataset(\n",
    "                                                autism_model.X_test.join(autism_model.y_test), label_col=\"ASD\"), \n",
    "                                                synthetic_data=synthetic_knn_normal_test_data)\n",
    "\n",
    "print(\"\\n * Decision tree copy:\")\n",
    "synthetic_tree_normal_test_data = tree_normal_copy.generate_synthetic_data(nsamples=2000, random_state=43)\n",
    "evaluation_tree_normal_copy = tree_normal_copy.evaluation_summary(test_data=Dataset(\n",
    "                                                autism_model.X_test.join(autism_model.y_test), label_col=\"ASD\"), \n",
    "                                                synthetic_data=synthetic_tree_normal_test_data)\n",
    "\n",
    "print(\"\\n * SVC copy:\")\n",
    "synthetic_svm_normal_test_data = svm_normal_copy.generate_synthetic_data(nsamples=2000, random_state=43)\n",
    "evaluation_svm_normal_copy = svm_normal_copy.evaluation_summary(test_data=Dataset(\n",
    "                                                autism_model.X_test.join(autism_model.y_test), label_col=\"ASD\"), \n",
    "                                                synthetic_data=synthetic_svm_normal_test_data)"
   ]
  },
  {
   "cell_type": "markdown",
   "metadata": {},
   "source": [
    "#### Conclusions\n",
    "* All copies have a very good accuracy.\n",
    "* In the case of the Logistic Regression and the SVC Classifier copies it is even better than the original.\n",
    "* However, the Decision Tree classifier is the model that reaches the lowest empirical fidelity error. Hence, it is the copy that best mimics the original model's decision boundary."
   ]
  },
  {
   "cell_type": "markdown",
   "metadata": {},
   "source": [
    "[Index](#Index)  \n",
    "  \n",
    "  \n"
   ]
  },
  {
   "cell_type": "markdown",
   "metadata": {},
   "source": [
    "-----\n",
    "-----"
   ]
  }
 ],
 "metadata": {
  "kernelspec": {
   "display_name": "Python 3",
   "language": "python",
   "name": "python3"
  },
  "language_info": {
   "codemirror_mode": {
    "name": "ipython",
    "version": 3
   },
   "file_extension": ".py",
   "mimetype": "text/x-python",
   "name": "python",
   "nbconvert_exporter": "python",
   "pygments_lexer": "ipython3",
   "version": "3.8.10"
  }
 },
 "nbformat": 4,
 "nbformat_minor": 4
}
