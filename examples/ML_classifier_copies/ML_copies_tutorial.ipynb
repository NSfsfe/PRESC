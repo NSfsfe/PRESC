{
 "cells": [
  {
   "cell_type": "markdown",
   "metadata": {},
   "source": [
    "# ML Classifier Copies - Tutorial"
   ]
  },
  {
   "cell_type": "markdown",
   "metadata": {},
   "source": [
    "<a name=\"Index\">\n",
    "    \n",
    "----\n",
    "# Table of contents\n",
    "  \n",
    "1. [**The problem**](#Problem)\n",
    "2. [**Sampling strategy**](#Sampling)  \n",
    "      A. [Feature space](#Feature)  \n",
    "      B. [Sampler](#Sampler)  \n",
    "      C. [Imbalance](#Imbalance)  \n",
    "3. [**Build copy**](#Copy)  \n",
    "4. [**Evaluate copy**](#Evaluation)  \n",
    "      A. [Evaluation summary](#Summary)  \n",
    "      B. [Class density projections](#Projections)  \n",
    "    \n",
    "----"
   ]
  },
  {
   "cell_type": "code",
   "execution_count": 1,
   "metadata": {},
   "outputs": [],
   "source": [
    "import sys\n",
    "sys.path.append(\"../../\")"
   ]
  },
  {
   "cell_type": "code",
   "execution_count": 2,
   "metadata": {},
   "outputs": [],
   "source": [
    "import matplotlib.pyplot as plt\n",
    "\n",
    "from sklearn.linear_model import LogisticRegression\n",
    "from sklearn.pipeline import Pipeline\n",
    "from sklearn.preprocessing import StandardScaler\n",
    "\n",
    "from presc.dataset import Dataset\n",
    "from presc.copies.copying import ClassifierCopy\n",
    "from presc.copies.evaluations import multivariable_density_comparison\n",
    "from presc.copies.sampling import mixed_data_features, uniform_sampling, normal_sampling, spherical_balancer_sampling, labeling\n",
    "\n",
    "from ML_copies_original_models import OccupancyModel"
   ]
  },
  {
   "cell_type": "markdown",
   "metadata": {},
   "source": [
    "[Index](#Index)  \n",
    "  \n",
    "  \n"
   ]
  },
  {
   "cell_type": "markdown",
   "metadata": {},
   "source": [
    "<a name=\"Problem\">  \n",
    "\n",
    "-----\n",
    "-----\n",
    "# 1. The problem"
   ]
  },
  {
   "cell_type": "markdown",
   "metadata": {},
   "source": [
    "In order to carry out the ML classifier copy, we do not need the original data nor any knowledge about the inner workings of the model, but we do need to be able to query the original model, which means that we must have access to some sort of API of the model and also have an idea of the valid ranges and input format of the sample for prediction.\n",
    "\n",
    "In this tutorial we will use a \"black box\" classifier model of the publicly available [Room Occupancy Detection dataset](https://archive-beta.ics.uci.edu/ml/datasets/occupancy+detection) that we can query in order to obtain a copy, and which has been incorporated to the ML Classifier Copy package examples. But there is a variety of other \"black box\" classifier models incorporated with the examples that can be used to explore and practice ML classifier copying. An internet connection is necessary to load these sample models.\n",
    "\n",
    "The task is to determine if a room is occupied or not given a series of sensor measurements (temperature, humidity, etc)."
   ]
  },
  {
   "cell_type": "code",
   "execution_count": 3,
   "metadata": {},
   "outputs": [],
   "source": [
    "# Load original model\n",
    "occupancy_model = OccupancyModel()"
   ]
  },
  {
   "cell_type": "markdown",
   "metadata": {},
   "source": [
    "[Index](#Index)  \n",
    "  \n",
    "  \n"
   ]
  },
  {
   "cell_type": "markdown",
   "metadata": {},
   "source": [
    "<a name=\"Sampling\">  \n",
    "\n",
    "-----\n",
    "# 3. Sampling strategy"
   ]
  },
  {
   "cell_type": "markdown",
   "metadata": {},
   "source": [
    "Proper sampling of the feature space is one of the **key issues** to ensure a successful copy, but it quickly becomes very challenging as the number of features increase. If we have no information on the feature distributions, it is a good idea to use a **uniform sampler**, but this may quickly become very inefficient as the number of features increase, where a **normal or a spherical sampler** may be more appropriate. But since this package is modular, more advanced samplers can be implemented by the user and connected to the other elements."
   ]
  },
  {
   "cell_type": "markdown",
   "metadata": {},
   "source": [
    "<a name=\"Feature\">  \n",
    "\n",
    "### Feature space"
   ]
  },
  {
   "cell_type": "markdown",
   "metadata": {},
   "source": [
    "In order to sample the feature space efficiently and generate relevant synthetic data, it is important to have as much information from the features as possible. Depending on the information we can estimate from the features, we will be able to use one or another sampler.\n",
    "\n",
    "For numerical data:\n",
    "* We only have an idea of the **ranges**, ie. **minimum and maximum values** -> We can use the **uniform sampler**.\n",
    "* We only have an idea of the **ranges**, but we are also able to **normalize the data** -> We can use the **uniform sampler** or the **spherical sampler**.\n",
    "* We can make a rough estimation on the values on which our features are **centered** and their **standard deviation** -> We can use the **normal sampler**.\n",
    "\n",
    "For categorical data:\n",
    "* We should specify at least the **different categories** of the feature.\n",
    "* If we can estimate the **frequency of each category** present in the original data, we can include that information in the feature descriptors and the sampler will generate more relevant synthetic data.\n",
    "* Otherwise, an **equal probability** can be assigned for all categories.\n",
    "\n",
    "The feature characteristics, either numerical or categorical, need to be specified in a dictionary of features. Each sampler will need a different set of feature descriptors, so not all of them need to be specified. This dictionary **can be built manually** but, if we have a sample of the original data, the feature descriptors can be extracted automatically from that into a feature dictionary. There is also a helper function to build a dictionary of categorical features with equiprobable categories.\n",
    "\n",
    "In the case of the \"black box\" models, a feature dictionary has been included with the models for convenience:"
   ]
  },
  {
   "cell_type": "code",
   "execution_count": 4,
   "metadata": {},
   "outputs": [
    {
     "data": {
      "text/plain": [
       "{'Temperature': {'min': 19.0,\n",
       "  'max': 23.18,\n",
       "  'mean': 20.61908364034549,\n",
       "  'sigma': 1.0169164411058473},\n",
       " 'Humidity': {'min': 16.745,\n",
       "  'max': 39.1175,\n",
       "  'mean': 25.731507286421873,\n",
       "  'sigma': 5.531210999582151},\n",
       " 'Light': {'min': 0.0,\n",
       "  'max': 1546.33333333333,\n",
       "  'mean': 119.5193745138974,\n",
       "  'sigma': 194.7558047986205},\n",
       " 'CO2': {'min': 412.75,\n",
       "  'max': 2028.5,\n",
       "  'mean': 606.5462431945639,\n",
       "  'sigma': 314.32087688106805},\n",
       " 'HumidityRatio': {'min': 0.002674126913904,\n",
       "  'max': 0.0064760132367102,\n",
       "  'mean': 0.003862506678320315,\n",
       "  'sigma': 0.0008523312991431677}}"
      ]
     },
     "execution_count": 4,
     "metadata": {},
     "output_type": "execute_result"
    }
   ],
   "source": [
    "# Feature dictionary included in the model\n",
    "feature_description = occupancy_model.feature_description\n",
    "feature_description"
   ]
  },
  {
   "cell_type": "markdown",
   "metadata": {},
   "source": [
    "However, if we have a sample of the original data (these \"black box\" models also include it for educational purposes), we can extract the feature descriptors from there. For the category extraction to work well in a mixed dataset, the categorical columns of the dataset must be labelled as such."
   ]
  },
  {
   "cell_type": "code",
   "execution_count": 5,
   "metadata": {},
   "outputs": [
    {
     "data": {
      "text/html": [
       "<div>\n",
       "<style scoped>\n",
       "    .dataframe tbody tr th:only-of-type {\n",
       "        vertical-align: middle;\n",
       "    }\n",
       "\n",
       "    .dataframe tbody tr th {\n",
       "        vertical-align: top;\n",
       "    }\n",
       "\n",
       "    .dataframe thead th {\n",
       "        text-align: right;\n",
       "    }\n",
       "</style>\n",
       "<table border=\"1\" class=\"dataframe\">\n",
       "  <thead>\n",
       "    <tr style=\"text-align: right;\">\n",
       "      <th></th>\n",
       "      <th>Temperature</th>\n",
       "      <th>Humidity</th>\n",
       "      <th>Light</th>\n",
       "      <th>CO2</th>\n",
       "      <th>HumidityRatio</th>\n",
       "    </tr>\n",
       "  </thead>\n",
       "  <tbody>\n",
       "    <tr>\n",
       "      <th>7928</th>\n",
       "      <td>20.100</td>\n",
       "      <td>33.090</td>\n",
       "      <td>0.0</td>\n",
       "      <td>447.500000</td>\n",
       "      <td>0.004817</td>\n",
       "    </tr>\n",
       "    <tr>\n",
       "      <th>5243</th>\n",
       "      <td>19.290</td>\n",
       "      <td>31.000</td>\n",
       "      <td>11.5</td>\n",
       "      <td>439.000000</td>\n",
       "      <td>0.004288</td>\n",
       "    </tr>\n",
       "    <tr>\n",
       "      <th>4197</th>\n",
       "      <td>21.445</td>\n",
       "      <td>18.815</td>\n",
       "      <td>37.0</td>\n",
       "      <td>440.000000</td>\n",
       "      <td>0.002967</td>\n",
       "    </tr>\n",
       "    <tr>\n",
       "      <th>6636</th>\n",
       "      <td>19.500</td>\n",
       "      <td>26.790</td>\n",
       "      <td>0.0</td>\n",
       "      <td>480.333333</td>\n",
       "      <td>0.003751</td>\n",
       "    </tr>\n",
       "    <tr>\n",
       "      <th>5295</th>\n",
       "      <td>19.390</td>\n",
       "      <td>30.500</td>\n",
       "      <td>26.5</td>\n",
       "      <td>429.000000</td>\n",
       "      <td>0.004245</td>\n",
       "    </tr>\n",
       "    <tr>\n",
       "      <th>...</th>\n",
       "      <td>...</td>\n",
       "      <td>...</td>\n",
       "      <td>...</td>\n",
       "      <td>...</td>\n",
       "      <td>...</td>\n",
       "    </tr>\n",
       "    <tr>\n",
       "      <th>2940</th>\n",
       "      <td>21.000</td>\n",
       "      <td>19.890</td>\n",
       "      <td>0.0</td>\n",
       "      <td>598.000000</td>\n",
       "      <td>0.003052</td>\n",
       "    </tr>\n",
       "    <tr>\n",
       "      <th>7525</th>\n",
       "      <td>20.390</td>\n",
       "      <td>33.000</td>\n",
       "      <td>0.0</td>\n",
       "      <td>543.000000</td>\n",
       "      <td>0.004891</td>\n",
       "    </tr>\n",
       "    <tr>\n",
       "      <th>4873</th>\n",
       "      <td>19.390</td>\n",
       "      <td>31.100</td>\n",
       "      <td>0.0</td>\n",
       "      <td>440.000000</td>\n",
       "      <td>0.004329</td>\n",
       "    </tr>\n",
       "    <tr>\n",
       "      <th>6445</th>\n",
       "      <td>19.445</td>\n",
       "      <td>26.745</td>\n",
       "      <td>0.0</td>\n",
       "      <td>464.500000</td>\n",
       "      <td>0.003732</td>\n",
       "    </tr>\n",
       "    <tr>\n",
       "      <th>4196</th>\n",
       "      <td>21.500</td>\n",
       "      <td>18.790</td>\n",
       "      <td>37.0</td>\n",
       "      <td>439.500000</td>\n",
       "      <td>0.002973</td>\n",
       "    </tr>\n",
       "  </tbody>\n",
       "</table>\n",
       "<p>100 rows × 5 columns</p>\n",
       "</div>"
      ],
      "text/plain": [
       "      Temperature  Humidity  Light         CO2  HumidityRatio\n",
       "7928       20.100    33.090    0.0  447.500000       0.004817\n",
       "5243       19.290    31.000   11.5  439.000000       0.004288\n",
       "4197       21.445    18.815   37.0  440.000000       0.002967\n",
       "6636       19.500    26.790    0.0  480.333333       0.003751\n",
       "5295       19.390    30.500   26.5  429.000000       0.004245\n",
       "...           ...       ...    ...         ...            ...\n",
       "2940       21.000    19.890    0.0  598.000000       0.003052\n",
       "7525       20.390    33.000    0.0  543.000000       0.004891\n",
       "4873       19.390    31.100    0.0  440.000000       0.004329\n",
       "6445       19.445    26.745    0.0  464.500000       0.003732\n",
       "4196       21.500    18.790   37.0  439.500000       0.002973\n",
       "\n",
       "[100 rows x 5 columns]"
      ]
     },
     "execution_count": 5,
     "metadata": {},
     "output_type": "execute_result"
    }
   ],
   "source": [
    "# A sample of features of the original dataset\n",
    "original_features_sample = occupancy_model.dataset.features.sample(100)\n",
    "original_features_sample"
   ]
  },
  {
   "cell_type": "code",
   "execution_count": 6,
   "metadata": {},
   "outputs": [
    {
     "data": {
      "text/plain": [
       "{'Temperature': {'min': 19.2,\n",
       "  'max': 22.445,\n",
       "  'mean': 20.53922833333333,\n",
       "  'sigma': 1.0037648189767232},\n",
       " 'Humidity': {'min': 17.79,\n",
       "  'max': 38.8975,\n",
       "  'mean': 27.029663333333332,\n",
       "  'sigma': 5.544763150643499},\n",
       " 'Light': {'min': 0.0,\n",
       "  'max': 554.333333333333,\n",
       "  'mean': 118.05333333333333,\n",
       "  'sigma': 199.2683536250887},\n",
       " 'CO2': {'min': 424.5,\n",
       "  'max': 2012.33333333333,\n",
       "  'mean': 660.3486666666666,\n",
       "  'sigma': 369.42566106028903},\n",
       " 'HumidityRatio': {'min': 0.0027004240849736,\n",
       "  'max': 0.0064091067443912,\n",
       "  'mean': 0.004043658808856615,\n",
       "  'sigma': 0.000885255101010786}}"
      ]
     },
     "execution_count": 6,
     "metadata": {},
     "output_type": "execute_result"
    }
   ],
   "source": [
    "# Build the feature dictionary from a data sample\n",
    "sample_feature_description = mixed_data_features(original_features_sample)\n",
    "sample_feature_description"
   ]
  },
  {
   "cell_type": "markdown",
   "metadata": {},
   "source": [
    "[Index](#Index)  \n",
    "  \n",
    "  \n"
   ]
  },
  {
   "cell_type": "markdown",
   "metadata": {},
   "source": [
    "<a name=\"Sampler\">  \n",
    "  \n",
    "    \n",
    "### Sampler"
   ]
  },
  {
   "cell_type": "markdown",
   "metadata": {},
   "source": [
    "There are several samplers already avaliable. These are the most common:\n",
    "\n",
    "* **Uniform sampler:** Generates random samples where the features have a uniform distribution between the ranges specified by **min** and **max** in the provided feature dictionary. Samples generated from this sampler are unlabeled, so there's no need to provide the original classifier, but as a consequence they may be unbalanced. It is useful well when we don't have information about the feature space, but it may become too inefficient when number of features increases.\n",
    "  \n",
    "\n",
    "* **Normal sampler:** Generates random samples where each feature has individually a normal distribution with the **mean** and **sigma** specified in the provided feature dictionary. Samples generated from this sampler are unlabeled, so there's no need to provide the original classifier, but as a consequence they may be unbalanced. It is a general purpose sampler which is useful if we can at least roughly estimate the mean and standard deviation of the features.\n",
    "  \n",
    "  \n",
    "* **Categorical sampler**: Generates random samples where the categories of each feature have the **frequency** specified at the feature dictionary. Samples generated from this sampler are unlabeled, so there's no need to provide the original classifier, but as a consequence they may be unbalanced. It is a sampler that can be used with categorical features.\n",
    "  \n",
    "\n",
    "* **Mixed data sampler**: Generates random samples for feature spaces that have a **mix of numerical and categorical features**. The feature descriptors have to be provided in a feature dictionary, and the desired numerical sampler for the numerical features has to be specified.\n",
    "\n",
    "\n",
    "* **Spherical balancing sampler:** Generates random samples with a multivariate normal distribution in the joint feature space, centered at the origin and with standard deviation one (as long as radius_min and radius_max are left at their default values 0 and 1). It does not need a feature dictionary because all features are generated with a single distribution, but the number of features has to be specified. Samples generated from this sampler are labeled and balanced (generates the same number of samples for each class), hence, the original classifier has to be provided. It is a reasonably efficient balancing sampler for problems with a **large number of features**. However, it can only be used when **features have been previously standardised**."
   ]
  },
  {
   "cell_type": "code",
   "execution_count": 7,
   "metadata": {},
   "outputs": [],
   "source": [
    "# Generate three different synthetic data sets\n",
    "uniform_sample = uniform_sampling(feature_description, nsamples=500)\n",
    "normal_sample = normal_sampling(feature_description, nsamples=500)\n",
    "spherical_sample = spherical_balancer_sampling(nsamples=500, nfeatures= 5, original_classifier=occupancy_model.model,\n",
    "                                               label_col=\"Occupancy\")"
   ]
  },
  {
   "cell_type": "code",
   "execution_count": 8,
   "metadata": {},
   "outputs": [
    {
     "data": {
      "image/png": "[encoded data removed]",
      "text/plain": [
       "<Figure size 1008x324 with 3 Axes>"
      ]
     },
     "metadata": {
      "needs_background": "light"
     },
     "output_type": "display_data"
    }
   ],
   "source": [
    "# Figure showing the samples generated by three different samplers\n",
    "fig, axs = plt.subplots(figsize=(14, 4.5), ncols=3)\n",
    "axs[0].scatter(uniform_sample[\"Temperature\"], uniform_sample[\"Humidity\"])\n",
    "axs[1].scatter(normal_sample[\"Temperature\"], normal_sample[\"Humidity\"])\n",
    "axs[2].scatter(spherical_sample[0], spherical_sample[1])\n",
    "axs[0].set_title(\"Uniform sampler\")\n",
    "axs[1].set_title(\"Normal sampler\")\n",
    "axs[2].set_title(\"Spherical balancing sampler\")\n",
    "for i in range(3):\n",
    "    axs[i].set_ylim((8,45))\n",
    "    axs[i].set_xlim((16.5,25))\n",
    "    axs[i].set_ylabel(\"Humidity\")\n",
    "    axs[i].set_xlabel(\"Temperature\")\n",
    "axs[2].set_ylim((-1,1))\n",
    "axs[2].set_xlim((-1,1))\n",
    "axs[2].tick_params(colors=\"red\")\n",
    "plt.tight_layout()\n",
    "_ = plt.show"
   ]
  },
  {
   "cell_type": "markdown",
   "metadata": {},
   "source": [
    "[Index](#Index)  \n",
    "  \n",
    "  \n"
   ]
  },
  {
   "cell_type": "markdown",
   "metadata": {},
   "source": [
    "### Imbalanced problems"
   ]
  },
  {
   "cell_type": "markdown",
   "metadata": {},
   "source": [
    "When we talk about imbalance in ML Classifier Copies we are not referring to the balance between classes provided by the original dataset, which is in principle not accessible and thus it does not have any effect in the copy. We are referring to the imbalance of the synthetic dataset used to generate the copy.\n",
    "\n",
    "Such an imbalance arises from a combination of the particular **topology of the class boundaries** learned by the original classifier and the **sampling strategy** to perform the copy. For instance, when using samplers that probe the space uniformly, the probability of having a class in the synthetic dataset is proportional to the volume of the space defined by its boundaries. Or when using a spherical sampler that assumes a gaussian distribution of the features, the probability of having a class in the synthetic dataset might increase for those classes that are located closer to the origin with respect to those in the outskirts, even if they occupy a similar volume.\n",
    "\n",
    "In order to tackle this problem, we can check for balance in the generated dataset, and then generate more samples if necessary until all classes have the same number of samples. In order to do this, we can simply set the parameter `enforce_balance` of the `ClassifierCopy` instance to `True`, or use a sampler that already does the balancing such as the spherical sampler.\n",
    "\n",
    "However, this process is not efficient and may require a much longer time to generate the synthetic dataset in cases of extreme imbalance."
   ]
  },
  {
   "cell_type": "markdown",
   "metadata": {},
   "source": [
    "[Index](#Index)  \n",
    "  \n",
    "  \n"
   ]
  },
  {
   "cell_type": "markdown",
   "metadata": {},
   "source": [
    "<a name=\"Copy\">  \n",
    "\n",
    "-----\n",
    "# 4. Build copy"
   ]
  },
  {
   "cell_type": "markdown",
   "metadata": {},
   "source": [
    "Since the classifier copy problem is always separable, we can in theory always obtain a perfect copy, as long as the chosen copy model family has enough complexity and that we generate enough samples to explore the relevant areas of the feature space. Generating more samples can produce a more accurate copy but only when the copy model has enough complexity. If this is not the case, the copy will eventually stop improving its performance regardless of the number of samples.\n",
    "\n",
    "The same way it is not possible to know in advance which will be the most appropriate model for a particular problem without knowing the data. It is also difficult to decide which will be the most appropriate copy model family without knowing anything about the original classifier. Hence, this is normally a trial and error process that iterates toward the best copy model family through evaluation of the copies.\n",
    "\n",
    "However, it is often a good idea to normalize the input data as many models require it in order to optimize properly. Therefore, we build a copy classifier pipeline that includes a standardisation preprocessing step."
   ]
  },
  {
   "cell_type": "code",
   "execution_count": 9,
   "metadata": {},
   "outputs": [],
   "source": [
    "# Instantiate copy classifier pipeline\n",
    "copy_classifier = Pipeline([('scaler', StandardScaler()), ('log_classifier', LogisticRegression())])"
   ]
  },
  {
   "cell_type": "markdown",
   "metadata": {},
   "source": [
    "Once we have decided the sampling strategy and the copy model or pipeline, we can instantiate the ClassifierCopy class, which allows to conveniently handle the whole copying process. Here we need to specify:\n",
    "* original classifier model\n",
    "* sampler that we want to use\n",
    "* number of synthetic samples that we want to generate\n",
    "* dictionary with the feature descriptors\n",
    "* desired name for the label column"
   ]
  },
  {
   "cell_type": "code",
   "execution_count": 10,
   "metadata": {},
   "outputs": [],
   "source": [
    "# Instantiate the copying process using the ClassifierCopy class\n",
    "copy_class = ClassifierCopy(occupancy_model.model, copy_classifier, normal_sampling, enforce_balance=False, nsamples=2000, \n",
    "                            random_state=42, feature_parameters=feature_description, label_col=\"Occupancy\")"
   ]
  },
  {
   "cell_type": "markdown",
   "metadata": {},
   "source": [
    "And then we carry out the copy."
   ]
  },
  {
   "cell_type": "code",
   "execution_count": 11,
   "metadata": {},
   "outputs": [],
   "source": [
    "# Carrying out the copy\n",
    "copy_training_data = copy_class.copy_classifier(get_training_data=True)"
   ]
  },
  {
   "cell_type": "markdown",
   "metadata": {},
   "source": [
    "Copying the original classifier returns the generated synthetic data used to train the copy model, which then can be stored if needed for later use."
   ]
  },
  {
   "cell_type": "markdown",
   "metadata": {},
   "source": [
    "[Index](#Index)  \n",
    "  \n",
    "  \n"
   ]
  },
  {
   "cell_type": "markdown",
   "metadata": {},
   "source": [
    "<a name=\"Evaluation\">  \n",
    "\n",
    "-----\n",
    "# 5. Evaluate copy    "
   ]
  },
  {
   "cell_type": "markdown",
   "metadata": {},
   "source": [
    "The following evaluations allow us to analyze the performance of the copy, and the adequacy of the chosen copy model family as well as the rest of the other parameters, in order to make the necessary adjustments to finally obtain a good copy."
   ]
  },
  {
   "cell_type": "markdown",
   "metadata": {},
   "source": [
    "<a name=\"Summary\"> \n",
    "\n",
    "### Evaluation summary"
   ]
  },
  {
   "cell_type": "markdown",
   "metadata": {},
   "source": [
    "In order to evaluate and understand the performance of the classifier copy we can use the evaluation summary, which provides the accuracy, the empirical fidelity error, and the replacement capability of the copy. Depending on our goal for the copy, the evaluation focus has to be in one or the other. \n",
    "\n",
    "Ideally, we want to use both **original test data** and **synthetic generated data** for the evaluation of the copy but, if this is not available, we can still use synthetic test data to compute the main performance of those magnitudes. The \"black box\" models also include for convenience a set of original test data so, in this case, we can use both.\n",
    "\n",
    "A more detailed explanation of the meaning of each evaluation metric can be found in the [documentation](https://mozilla.github.io/PRESC/ml_copies.html#evaluation-of-the-copy)."
   ]
  },
  {
   "cell_type": "code",
   "execution_count": 12,
   "metadata": {},
   "outputs": [
    {
     "name": "stdout",
     "output_type": "stream",
     "text": [
      "Original Model Accuracy (test)          0.9920\n",
      "Copy Model Accuracy (test)              0.9806\n",
      "Empirical Fidelity Error (synthetic)    0.0980\n",
      "Empirical Fidelity Error (test)         0.0209\n",
      "Replacement Capability (synthetic)      0.9020\n",
      "Replacement Capability (test)           0.9884\n"
     ]
    }
   ],
   "source": [
    "# Generate synthetic test data\n",
    "synthetic_test_data = copy_class.generate_synthetic_data(nsamples=2000, random_state=43)\n",
    "\n",
    "# Evaluate the copy with both generated syntetic data and original test data\n",
    "copy_evaluation = copy_class.evaluation_summary(test_data=Dataset(occupancy_model.X_test.join(occupancy_model.y_test), \n",
    "                                                                  label_col=\"Occupancy\"), synthetic_data=synthetic_test_data)"
   ]
  },
  {
   "cell_type": "markdown",
   "metadata": {},
   "source": [
    "[Index](#Index)  \n",
    "  \n",
    "  \n"
   ]
  },
  {
   "cell_type": "markdown",
   "metadata": {},
   "source": [
    "<a name=\"Projections\">  \n",
    "\n",
    "\n",
    "### Class density projections"
   ]
  },
  {
   "cell_type": "markdown",
   "metadata": {},
   "source": [
    "Apart from the quantitative performance, we can also analyze and evaluate the copy using visualization tools. However, since most realistic problems have usually many more than two features, **visualizing the decision boundary** of the original model to compare it to the copy model is normally **not possible**.\n",
    "\n",
    "Nonetheless, it is possible to sample the feature space described by the original and copy models and project the **density of the feature space occupied by each class** in feature pairs. Dissimilarity between the class density projections of the original classifier and those of the classifier copies is an indication of poor fidelity.\n",
    "\n",
    "The data points for the visualization of the original classifier and copies topologies must be sampled homogeneously throughout the feature space to avoid introducing spurious shapes in the projected density distributions. Hence, **uniform_sampling** is a good option to carry out this sampling. \n",
    "\n",
    "Here we have chosen a couple of example parameters at a time and displayed their class densities side by side for the original and copy classifiers. All data used for these visualizations has been generated synthetically."
   ]
  },
  {
   "cell_type": "code",
   "execution_count": 13,
   "metadata": {},
   "outputs": [],
   "source": [
    "# Sample a number of data points in the feature space\n",
    "visualization_data = uniform_sampling(nsamples=50000, feature_parameters=feature_description)\n",
    "\n",
    "# Label sampled points with the different classifiers\n",
    "visualization_original = labeling(visualization_data, occupancy_model.model, label_col=\"Occupancy\")\n",
    "visualization_copy = labeling(visualization_data, copy_class.copy, label_col=\"Occupancy\")"
   ]
  },
  {
   "cell_type": "code",
   "execution_count": 14,
   "metadata": {},
   "outputs": [],
   "source": [
    "# Common parameters for the comparisons (including the Occupancy class colors)\n",
    "titles = [\"Original Classifier\", \"Logistic Regression Classifier Copy\"]\n",
    "datasets = [visualization_original.df, visualization_copy.df]\n",
    "other_kwargs = {\"palette\": {0:\"red\", 1:\"royalblue\"}}"
   ]
  },
  {
   "cell_type": "code",
   "execution_count": 15,
   "metadata": {},
   "outputs": [
    {
     "data": {
      "image/png": "[encoded data removed]",
      "text/plain": [
       "<Figure size 504x504 with 4 Axes>"
      ]
     },
     "metadata": {
      "needs_background": "light"
     },
     "output_type": "display_data"
    }
   ],
   "source": [
    "%%capture --no-display\n",
    "fig, axs = multivariable_density_comparison(datasets=datasets, feature1=\"Temperature\", feature2=\"Humidity\", label_col=\"Occupancy\",\n",
    "                                            titles=titles, other_kwargs=other_kwargs)"
   ]
  },
  {
   "cell_type": "code",
   "execution_count": 16,
   "metadata": {},
   "outputs": [
    {
     "data": {
      "image/png": "[encoded data removed]",
      "text/plain": [
       "<Figure size 504x504 with 4 Axes>"
      ]
     },
     "metadata": {
      "needs_background": "light"
     },
     "output_type": "display_data"
    }
   ],
   "source": [
    "%%capture --no-display\n",
    "fig, axs = multivariable_density_comparison(datasets=datasets, feature1=\"Light\", feature2=\"CO2\",  label_col=\"Occupancy\",\n",
    "                                            titles=titles, other_kwargs=other_kwargs)"
   ]
  },
  {
   "cell_type": "markdown",
   "metadata": {},
   "source": [
    "[Index](#Index)  \n",
    "  \n",
    "  "
   ]
  },
  {
   "cell_type": "markdown",
   "metadata": {},
   "source": [
    "-----\n",
    "-----"
   ]
  }
 ],
 "metadata": {
  "kernelspec": {
   "display_name": "Python 3",
   "language": "python",
   "name": "python3"
  },
  "language_info": {
   "codemirror_mode": {
    "name": "ipython",
    "version": 3
   },
   "file_extension": ".py",
   "mimetype": "text/x-python",
   "name": "python",
   "nbconvert_exporter": "python",
   "pygments_lexer": "ipython3",
   "version": "3.8.10"
  }
 },
 "nbformat": 4,
 "nbformat_minor": 4
}
